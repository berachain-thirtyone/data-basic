{
 "cells": [
  {
   "cell_type": "code",
   "execution_count": 4,
   "id": "7b59debe-9c39-4a6b-9271-31dac0027a54",
   "metadata": {
    "scrolled": true
   },
   "outputs": [
    {
     "name": "stdout",
     "output_type": "stream",
     "text": [
      "Requirement already satisfied: web3 in c:\\users\\s0761\\anaconda3\\lib\\site-packages (7.5.0)\n",
      "Requirement already satisfied: eth-abi>=5.0.1 in c:\\users\\s0761\\anaconda3\\lib\\site-packages (from web3) (5.1.0)\n",
      "Requirement already satisfied: eth-account>=0.13.1 in c:\\users\\s0761\\anaconda3\\lib\\site-packages (from web3) (0.13.4)\n",
      "Requirement already satisfied: eth-hash[pycryptodome]>=0.5.1 in c:\\users\\s0761\\anaconda3\\lib\\site-packages (from web3) (0.7.0)\n",
      "Requirement already satisfied: eth-typing>=5.0.0 in c:\\users\\s0761\\anaconda3\\lib\\site-packages (from web3) (5.0.1)\n",
      "Requirement already satisfied: eth-utils>=5.0.0 in c:\\users\\s0761\\anaconda3\\lib\\site-packages (from web3) (5.1.0)\n",
      "Requirement already satisfied: hexbytes>=1.2.0 in c:\\users\\s0761\\anaconda3\\lib\\site-packages (from web3) (1.2.1)\n",
      "Requirement already satisfied: aiohttp>=3.7.4.post0 in c:\\users\\s0761\\anaconda3\\lib\\site-packages (from web3) (3.8.3)\n",
      "Requirement already satisfied: pydantic>=2.4.0 in c:\\users\\s0761\\anaconda3\\lib\\site-packages (from web3) (2.9.2)\n",
      "Requirement already satisfied: requests>=2.23.0 in c:\\users\\s0761\\anaconda3\\lib\\site-packages (from web3) (2.31.0)\n",
      "Requirement already satisfied: typing-extensions>=4.0.1 in c:\\users\\s0761\\anaconda3\\lib\\site-packages (from web3) (4.7.1)\n",
      "Requirement already satisfied: types-requests>=2.0.0 in c:\\users\\s0761\\anaconda3\\lib\\site-packages (from web3) (2.32.0.20241016)\n",
      "Requirement already satisfied: websockets>=10.0.0 in c:\\users\\s0761\\anaconda3\\lib\\site-packages (from web3) (13.1)\n",
      "Requirement already satisfied: pyunormalize>=15.0.0 in c:\\users\\s0761\\anaconda3\\lib\\site-packages (from web3) (16.0.0)\n",
      "Requirement already satisfied: pywin32>=223 in c:\\users\\s0761\\anaconda3\\lib\\site-packages (from web3) (305.1)\n",
      "Requirement already satisfied: attrs>=17.3.0 in c:\\users\\s0761\\anaconda3\\lib\\site-packages (from aiohttp>=3.7.4.post0->web3) (24.2.0)\n",
      "Requirement already satisfied: charset-normalizer<3.0,>=2.0 in c:\\users\\s0761\\anaconda3\\lib\\site-packages (from aiohttp>=3.7.4.post0->web3) (2.0.4)\n",
      "Requirement already satisfied: multidict<7.0,>=4.5 in c:\\users\\s0761\\anaconda3\\lib\\site-packages (from aiohttp>=3.7.4.post0->web3) (6.0.2)\n",
      "Requirement already satisfied: async-timeout<5.0,>=4.0.0a3 in c:\\users\\s0761\\anaconda3\\lib\\site-packages (from aiohttp>=3.7.4.post0->web3) (4.0.2)\n",
      "Requirement already satisfied: yarl<2.0,>=1.0 in c:\\users\\s0761\\anaconda3\\lib\\site-packages (from aiohttp>=3.7.4.post0->web3) (1.8.1)\n",
      "Requirement already satisfied: frozenlist>=1.1.1 in c:\\users\\s0761\\anaconda3\\lib\\site-packages (from aiohttp>=3.7.4.post0->web3) (1.3.3)\n",
      "Requirement already satisfied: aiosignal>=1.1.2 in c:\\users\\s0761\\anaconda3\\lib\\site-packages (from aiohttp>=3.7.4.post0->web3) (1.2.0)\n",
      "Requirement already satisfied: parsimonious<0.11.0,>=0.10.0 in c:\\users\\s0761\\anaconda3\\lib\\site-packages (from eth-abi>=5.0.1->web3) (0.10.0)\n",
      "Requirement already satisfied: bitarray>=2.4.0 in c:\\users\\s0761\\anaconda3\\lib\\site-packages (from eth-account>=0.13.1->web3) (3.0.0)\n",
      "Requirement already satisfied: eth-keyfile<0.9.0,>=0.7.0 in c:\\users\\s0761\\anaconda3\\lib\\site-packages (from eth-account>=0.13.1->web3) (0.8.1)\n",
      "Requirement already satisfied: eth-keys>=0.4.0 in c:\\users\\s0761\\anaconda3\\lib\\site-packages (from eth-account>=0.13.1->web3) (0.6.0)\n",
      "Requirement already satisfied: eth-rlp>=2.1.0 in c:\\users\\s0761\\anaconda3\\lib\\site-packages (from eth-account>=0.13.1->web3) (2.1.0)\n",
      "Requirement already satisfied: rlp>=1.0.0 in c:\\users\\s0761\\anaconda3\\lib\\site-packages (from eth-account>=0.13.1->web3) (4.0.1)\n",
      "Requirement already satisfied: ckzg>=2.0.0 in c:\\users\\s0761\\anaconda3\\lib\\site-packages (from eth-account>=0.13.1->web3) (2.0.1)\n",
      "Requirement already satisfied: pycryptodome<4,>=3.6.6 in c:\\users\\s0761\\anaconda3\\lib\\site-packages (from eth-hash[pycryptodome]>=0.5.1->web3) (3.21.0)\n",
      "Requirement already satisfied: cytoolz>=0.10.1 in c:\\users\\s0761\\anaconda3\\lib\\site-packages (from eth-utils>=5.0.0->web3) (0.12.0)\n",
      "Requirement already satisfied: annotated-types>=0.6.0 in c:\\users\\s0761\\anaconda3\\lib\\site-packages (from pydantic>=2.4.0->web3) (0.7.0)\n",
      "Requirement already satisfied: pydantic-core==2.23.4 in c:\\users\\s0761\\anaconda3\\lib\\site-packages (from pydantic>=2.4.0->web3) (2.23.4)\n",
      "Requirement already satisfied: idna<4,>=2.5 in c:\\users\\s0761\\anaconda3\\lib\\site-packages (from requests>=2.23.0->web3) (3.4)\n",
      "Requirement already satisfied: urllib3<3,>=1.21.1 in c:\\users\\s0761\\anaconda3\\lib\\site-packages (from requests>=2.23.0->web3) (2.2.3)\n",
      "Requirement already satisfied: certifi>=2017.4.17 in c:\\users\\s0761\\anaconda3\\lib\\site-packages (from requests>=2.23.0->web3) (2024.8.30)\n",
      "Requirement already satisfied: toolz>=0.8.0 in c:\\users\\s0761\\anaconda3\\lib\\site-packages (from cytoolz>=0.10.1->eth-utils>=5.0.0->web3) (0.12.0)\n",
      "Requirement already satisfied: regex>=2022.3.15 in c:\\users\\s0761\\anaconda3\\lib\\site-packages (from parsimonious<0.11.0,>=0.10.0->eth-abi>=5.0.1->web3) (2022.7.9)\n"
     ]
    }
   ],
   "source": [
    "!pip install web3"
   ]
  },
  {
   "cell_type": "code",
   "execution_count": 88,
   "id": "6b469d0e-f4bc-443d-ab0c-6787d3d750e1",
   "metadata": {},
   "outputs": [
    {
     "name": "stdout",
     "output_type": "stream",
     "text": [
      "Berachain 테스트넷과 성공적으로 연결되었습니다! (Chain ID: 80084)\n"
     ]
    }
   ],
   "source": [
    "from web3 import Web3\n",
    "\n",
    "berachain_rpc_url = \"https://bartio.rpc.berachain.com/\"\n",
    "chain_id = 80084\n",
    "\n",
    "w3 = Web3(Web3.HTTPProvider(berachain_rpc_url))\n",
    "\n",
    "try:\n",
    "    if w3.is_connected():\n",
    "        network_id = w3.eth.chain_id\n",
    "        if network_id == chain_id:\n",
    "            print(f\"Berachain 테스트넷과 성공적으로 연결되었습니다! (Chain ID: {network_id})\")\n",
    "        else:\n",
    "            print(f\"연결된 네트워크의 Chain ID가 일치하지 않습니다. 연결된 Chain ID: {network_id}, 예상 Chain ID: {chain_id}\")\n",
    "    else:\n",
    "        print(\"Berachain 네트워크에 연결할 수 없습니다.\")\n",
    "except Exception as e:\n",
    "    print(f\"연결 시도 중 오류 발생: {e}\")"
   ]
  },
  {
   "cell_type": "code",
   "execution_count": 142,
   "id": "5cf6d584-c4b4-4068-802d-2bb0f33ab680",
   "metadata": {},
   "outputs": [],
   "source": [
    "# ABI 파일 로드\n",
    "with open('BeraChef.json') as f:\n",
    "    BC_abi = json.load(f)\n",
    "\n",
    "with open('BGT.json') as f:\n",
    "    BGT_abi = json.load(f)\n",
    "\n",
    "with open('BerachainRewardsVault.json') as f:\n",
    "    RV_abi = json.load(f)\n",
    "\n",
    "with open('BlockRewardController.json') as f:\n",
    "    RC_abi = json.load(f)\n",
    "\n",
    "bera_chef = \"0xfb81E39E3970076ab2693fA5C45A07Cc724C93c2\"\n",
    "\n",
    "BC_contract = w3.eth.contract(address=bera_chef, abi=BC_abi)\n",
    "BGT_contract = w3.eth.contract(address=bera_chef, abi=BGT_abi)\n",
    "RV_contract = w3.eth.contract(address=bera_chef, abi=RV_abi)\n",
    "RC_contract = w3.eth.contract(address=bera_chef, abi=RC_abi)"
   ]
  },
  {
   "cell_type": "code",
   "execution_count": 98,
   "id": "c606823b-62fb-4617-b880-ccf94365d4d4",
   "metadata": {},
   "outputs": [
    {
     "name": "stdout",
     "output_type": "stream",
     "text": [
      "Active Cutting Board: (1, [('0x2E8410239bB4b099EE2d5683e3EF9d6f04E321CC', 3333), ('0xAD57d7d39a487C04a44D3522b910421888Fb9C6d', 3333), ('0xC5Cb3459723B828B3974f7E58899249C2be3B33d', 3334)])\n"
     ]
    }
   ],
   "source": [
    "validator_address = \"0x2D764DFeaAc00390c69985631aAA7Cc3fcfaFAfF\"\n",
    "\n",
    "try:\n",
    "    stake_info = BC_contract.functions.getDefaultCuttingBoard().call()\n",
    "    print(f\"Active Cutting Board: {stake_info}\")\n",
    "except Exception as e:\n",
    "    print(f\"오류 발생: {e}\")"
   ]
  },
  {
   "cell_type": "code",
   "execution_count": 138,
   "id": "9f7c6acc-9bc8-4c10-b51c-69c650eaaf48",
   "metadata": {},
   "outputs": [
    {
     "name": "stdout",
     "output_type": "stream",
     "text": [
      "reward 오류 ('execution reverted', 'no data')\n"
     ]
    }
   ],
   "source": [
    "validator = \"0xC09A619A872c56C8de1354A4309aBBF317938084\"\n",
    "\n",
    "try:\n",
    "    reward = RV_contract.functions.getReward(validator).call()\n",
    "    print(f\"reward: {total_delegate_staked}\")\n",
    "except Exception as e:\n",
    "    print(f\"reward 오류 {e}\")"
   ]
  },
  {
   "cell_type": "code",
   "execution_count": 146,
   "id": "133b060c-ce39-4dff-b402-3b66cafef2b9",
   "metadata": {},
   "outputs": [
    {
     "name": "stdout",
     "output_type": "stream",
     "text": [
      "ActiveCuttingBoard: (6438755, [('0x6582414E830d91C8016C10ceD72157106F908145', 5000), ('0x175e2429bCb92643255abCbCDF47Fff63F7990CC', 2000), ('0x1992b26E2617928966B4F8e8eeCF41C6e7A77010', 2000), ('0x7b15eeC57C60f8B68dF2b143c2CA5a772E787e86', 1000)])\n",
      "Operator Address: 0xC09A619A872c56C8de1354A4309aBBF317938084\n",
      "baseRate 오류 ('execution reverted', 'no data')\n"
     ]
    }
   ],
   "source": [
    "# Infrared\n",
    "validator = \"0xC09A619A872c56C8de1354A4309aBBF317938084\"\n",
    "\n",
    "try:\n",
    "    active_info = BC_contract.functions.getActiveCuttingBoard(validator).call()\n",
    "    operator = BC_contract.functions.getOperator(validator).call()\n",
    "    print(f\"ActiveCuttingBoard: {active_info}\")\n",
    "    print(f\"Operator Address: {operator}\")\n",
    "except Exception as e:\n",
    "    print(f\"ActiveCuttingBoard 오류 {e}\")\n",
    "    print(f\"getOperator 오류 {e}\""
   ]
  },
  {
   "cell_type": "code",
   "execution_count": null,
   "id": "1c5058b7-b205-433d-947c-9682381d4bc8",
   "metadata": {},
   "outputs": [],
   "source": []
  },
  {
   "cell_type": "code",
   "execution_count": null,
   "id": "2b4a7e00-e20a-4ad9-9f77-e3a2694671d6",
   "metadata": {},
   "outputs": [],
   "source": []
  }
 ],
 "metadata": {
  "kernelspec": {
   "display_name": "Python 3 (ipykernel)",
   "language": "python",
   "name": "python3"
  },
  "language_info": {
   "codemirror_mode": {
    "name": "ipython",
    "version": 3
   },
   "file_extension": ".py",
   "mimetype": "text/x-python",
   "name": "python",
   "nbconvert_exporter": "python",
   "pygments_lexer": "ipython3",
   "version": "3.11.4"
  }
 },
 "nbformat": 4,
 "nbformat_minor": 5
}
