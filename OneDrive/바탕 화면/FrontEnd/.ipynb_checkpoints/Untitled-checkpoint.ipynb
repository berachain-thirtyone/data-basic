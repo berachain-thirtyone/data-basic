{
 "cells": [
  {
   "cell_type": "code",
   "execution_count": 4,
   "id": "7b59debe-9c39-4a6b-9271-31dac0027a54",
   "metadata": {
    "scrolled": true
   },
   "outputs": [
    {
     "name": "stdout",
     "output_type": "stream",
     "text": [
      "Requirement already satisfied: web3 in c:\\users\\s0761\\anaconda3\\lib\\site-packages (7.5.0)\n",
      "Requirement already satisfied: eth-abi>=5.0.1 in c:\\users\\s0761\\anaconda3\\lib\\site-packages (from web3) (5.1.0)\n",
      "Requirement already satisfied: eth-account>=0.13.1 in c:\\users\\s0761\\anaconda3\\lib\\site-packages (from web3) (0.13.4)\n",
      "Requirement already satisfied: eth-hash[pycryptodome]>=0.5.1 in c:\\users\\s0761\\anaconda3\\lib\\site-packages (from web3) (0.7.0)\n",
      "Requirement already satisfied: eth-typing>=5.0.0 in c:\\users\\s0761\\anaconda3\\lib\\site-packages (from web3) (5.0.1)\n",
      "Requirement already satisfied: eth-utils>=5.0.0 in c:\\users\\s0761\\anaconda3\\lib\\site-packages (from web3) (5.1.0)\n",
      "Requirement already satisfied: hexbytes>=1.2.0 in c:\\users\\s0761\\anaconda3\\lib\\site-packages (from web3) (1.2.1)\n",
      "Requirement already satisfied: aiohttp>=3.7.4.post0 in c:\\users\\s0761\\anaconda3\\lib\\site-packages (from web3) (3.8.3)\n",
      "Requirement already satisfied: pydantic>=2.4.0 in c:\\users\\s0761\\anaconda3\\lib\\site-packages (from web3) (2.9.2)\n",
      "Requirement already satisfied: requests>=2.23.0 in c:\\users\\s0761\\anaconda3\\lib\\site-packages (from web3) (2.31.0)\n",
      "Requirement already satisfied: typing-extensions>=4.0.1 in c:\\users\\s0761\\anaconda3\\lib\\site-packages (from web3) (4.7.1)\n",
      "Requirement already satisfied: types-requests>=2.0.0 in c:\\users\\s0761\\anaconda3\\lib\\site-packages (from web3) (2.32.0.20241016)\n",
      "Requirement already satisfied: websockets>=10.0.0 in c:\\users\\s0761\\anaconda3\\lib\\site-packages (from web3) (13.1)\n",
      "Requirement already satisfied: pyunormalize>=15.0.0 in c:\\users\\s0761\\anaconda3\\lib\\site-packages (from web3) (16.0.0)\n",
      "Requirement already satisfied: pywin32>=223 in c:\\users\\s0761\\anaconda3\\lib\\site-packages (from web3) (305.1)\n",
      "Requirement already satisfied: attrs>=17.3.0 in c:\\users\\s0761\\anaconda3\\lib\\site-packages (from aiohttp>=3.7.4.post0->web3) (24.2.0)\n",
      "Requirement already satisfied: charset-normalizer<3.0,>=2.0 in c:\\users\\s0761\\anaconda3\\lib\\site-packages (from aiohttp>=3.7.4.post0->web3) (2.0.4)\n",
      "Requirement already satisfied: multidict<7.0,>=4.5 in c:\\users\\s0761\\anaconda3\\lib\\site-packages (from aiohttp>=3.7.4.post0->web3) (6.0.2)\n",
      "Requirement already satisfied: async-timeout<5.0,>=4.0.0a3 in c:\\users\\s0761\\anaconda3\\lib\\site-packages (from aiohttp>=3.7.4.post0->web3) (4.0.2)\n",
      "Requirement already satisfied: yarl<2.0,>=1.0 in c:\\users\\s0761\\anaconda3\\lib\\site-packages (from aiohttp>=3.7.4.post0->web3) (1.8.1)\n",
      "Requirement already satisfied: frozenlist>=1.1.1 in c:\\users\\s0761\\anaconda3\\lib\\site-packages (from aiohttp>=3.7.4.post0->web3) (1.3.3)\n",
      "Requirement already satisfied: aiosignal>=1.1.2 in c:\\users\\s0761\\anaconda3\\lib\\site-packages (from aiohttp>=3.7.4.post0->web3) (1.2.0)\n",
      "Requirement already satisfied: parsimonious<0.11.0,>=0.10.0 in c:\\users\\s0761\\anaconda3\\lib\\site-packages (from eth-abi>=5.0.1->web3) (0.10.0)\n",
      "Requirement already satisfied: bitarray>=2.4.0 in c:\\users\\s0761\\anaconda3\\lib\\site-packages (from eth-account>=0.13.1->web3) (3.0.0)\n",
      "Requirement already satisfied: eth-keyfile<0.9.0,>=0.7.0 in c:\\users\\s0761\\anaconda3\\lib\\site-packages (from eth-account>=0.13.1->web3) (0.8.1)\n",
      "Requirement already satisfied: eth-keys>=0.4.0 in c:\\users\\s0761\\anaconda3\\lib\\site-packages (from eth-account>=0.13.1->web3) (0.6.0)\n",
      "Requirement already satisfied: eth-rlp>=2.1.0 in c:\\users\\s0761\\anaconda3\\lib\\site-packages (from eth-account>=0.13.1->web3) (2.1.0)\n",
      "Requirement already satisfied: rlp>=1.0.0 in c:\\users\\s0761\\anaconda3\\lib\\site-packages (from eth-account>=0.13.1->web3) (4.0.1)\n",
      "Requirement already satisfied: ckzg>=2.0.0 in c:\\users\\s0761\\anaconda3\\lib\\site-packages (from eth-account>=0.13.1->web3) (2.0.1)\n",
      "Requirement already satisfied: pycryptodome<4,>=3.6.6 in c:\\users\\s0761\\anaconda3\\lib\\site-packages (from eth-hash[pycryptodome]>=0.5.1->web3) (3.21.0)\n",
      "Requirement already satisfied: cytoolz>=0.10.1 in c:\\users\\s0761\\anaconda3\\lib\\site-packages (from eth-utils>=5.0.0->web3) (0.12.0)\n",
      "Requirement already satisfied: annotated-types>=0.6.0 in c:\\users\\s0761\\anaconda3\\lib\\site-packages (from pydantic>=2.4.0->web3) (0.7.0)\n",
      "Requirement already satisfied: pydantic-core==2.23.4 in c:\\users\\s0761\\anaconda3\\lib\\site-packages (from pydantic>=2.4.0->web3) (2.23.4)\n",
      "Requirement already satisfied: idna<4,>=2.5 in c:\\users\\s0761\\anaconda3\\lib\\site-packages (from requests>=2.23.0->web3) (3.4)\n",
      "Requirement already satisfied: urllib3<3,>=1.21.1 in c:\\users\\s0761\\anaconda3\\lib\\site-packages (from requests>=2.23.0->web3) (2.2.3)\n",
      "Requirement already satisfied: certifi>=2017.4.17 in c:\\users\\s0761\\anaconda3\\lib\\site-packages (from requests>=2.23.0->web3) (2024.8.30)\n",
      "Requirement already satisfied: toolz>=0.8.0 in c:\\users\\s0761\\anaconda3\\lib\\site-packages (from cytoolz>=0.10.1->eth-utils>=5.0.0->web3) (0.12.0)\n",
      "Requirement already satisfied: regex>=2022.3.15 in c:\\users\\s0761\\anaconda3\\lib\\site-packages (from parsimonious<0.11.0,>=0.10.0->eth-abi>=5.0.1->web3) (2022.7.9)\n"
     ]
    }
   ],
   "source": [
    "!pip install web3"
   ]
  },
  {
   "cell_type": "code",
   "execution_count": 88,
   "id": "6b469d0e-f4bc-443d-ab0c-6787d3d750e1",
   "metadata": {},
   "outputs": [
    {
     "name": "stdout",
     "output_type": "stream",
     "text": [
      "Berachain 테스트넷과 성공적으로 연결되었습니다! (Chain ID: 80084)\n"
     ]
    }
   ],
   "source": [
    "from web3 import Web3\n",
    "\n",
    "berachain_rpc_url = \"https://bartio.rpc.berachain.com/\"\n",
    "chain_id = 80084\n",
    "\n",
    "w3 = Web3(Web3.HTTPProvider(berachain_rpc_url))\n",
    "\n",
    "try:\n",
    "    if w3.is_connected():\n",
    "        network_id = w3.eth.chain_id\n",
    "        if network_id == chain_id:\n",
    "            print(f\"Berachain 테스트넷과 성공적으로 연결되었습니다! (Chain ID: {network_id})\")\n",
    "        else:\n",
    "            print(f\"연결된 네트워크의 Chain ID가 일치하지 않습니다. 연결된 Chain ID: {network_id}, 예상 Chain ID: {chain_id}\")\n",
    "    else:\n",
    "        print(\"Berachain 네트워크에 연결할 수 없습니다.\")\n",
    "except Exception as e:\n",
    "    print(f\"연결 시도 중 오류 발생: {e}\")"
   ]
  },
  {
   "cell_type": "code",
   "execution_count": 42,
   "id": "c606823b-62fb-4617-b880-ccf94365d4d4",
   "metadata": {},
   "outputs": [
    {
     "name": "stdout",
     "output_type": "stream",
     "text": [
      "Active Cutting Board: (1, [('0x2E8410239bB4b099EE2d5683e3EF9d6f04E321CC', 3333), ('0xAD57d7d39a487C04a44D3522b910421888Fb9C6d', 3333), ('0xC5Cb3459723B828B3974f7E58899249C2be3B33d', 3334)])\n",
      "BGT Delegated 조회 오류 발생: (\"The function 'getTotalDelegateStaked' was not found in this contract's abi.\", ' Are you sure you provided the correct contract abi?')\n"
     ]
    }
   ],
   "source": [
    "# BeraChef ABI 로드\n",
    "with open('BeraChef.json') as f:\n",
    "    bera_chef_abi = json.load(f)\n",
    "\n",
    "contract_address = \"0xfb81E39E3970076ab2693fA5C45A07Cc724C93c2\"\n",
    "\n",
    "# BeraChef ABI 로드\n",
    "with open('BeraChef.json') as f:\n",
    "    bera_chef_abi = json.load(f)\n",
    "\n",
    "# 스마트 계약 인스턴스 생성\n",
    "bera_chef_contract = w3.eth.contract(address=contract_address, abi=bera_chef_abi)\n",
    "\n",
    "# 검증자 주소 (예시)\n",
    "validator_address = \"0x2D764DFeaAc00390c69985631aAA7Cc3fcfaFAfF\"\n",
    "\n",
    "try:\n",
    "    stake_info = bera_chef_contract.functions.getDefaultCuttingBoard().call()\n",
    "    print(f\"Active Cutting Board: {stake_info}\")\n",
    "except Exception as e:\n",
    "    print(f\"오류 발생: {e}\")\n",
    "\n",
    "# BGT Delegated 확인\n",
    "try:\n",
    "    validator_address = '0xAD57d7d39a487C04a44D3522b910421888Fb9C6d'\n",
    "    bgt_delegated = bgt_contract.functions.getTotalDelegateStaked(validator_address).call()\n",
    "    print(f\"BGT Delegated: {bgt_delegated}\")\n",
    "except Exception as e:\n",
    "    print(f\"BGT Delegated 조회 오류 발생: {e}\")"
   ]
  },
  {
   "cell_type": "code",
   "execution_count": null,
   "id": "70de4521-747f-4113-a5c3-c746ba394d58",
   "metadata": {},
   "outputs": [],
   "source": [
    "bgt_abi = load_abi('BGT.json')\n",
    "rewards_vault_abi = load_abi('BerachainRewardsVault.json')\n",
    "\n",
    "# 스마트 계약 인스턴스 생성\n",
    "bgt_contract = w3.eth.contract(address=bgt_contract_address, abi=bgt_abi)\n",
    "rewards_vault_contract = w3.eth.contract(address=rewards_vault_address, abi=rewards_vault_abi)\n",
    "\n",
    "# 계정 주소 (예시 주소)\n",
    "try:\n",
    "    account_address = Web3.to_checksum_address(\"0x7b15eeC57C60f8B68dF2b143c2CA5a772E787e86\")\n",
    "except Exception as e:\n",
    "    print(f\"계정 주소 변환 오류 발생: {e}\")\n",
    "    exit()\n",
    "\n",
    "# BGT 위임량 확인 (BGT Delegated)\n",
    "try:\n",
    "    total_supply = bgt_contract.functions.totalSupply().call()\n",
    "    print(f\"BGT 위임량: {total_supply}\")\n",
    "except Exception as e:\n",
    "    print(f\"BGT 위임량 조회 오류 발생: {e}\")\n",
    "\n",
    "# 보상 정보 계산을 위한 APY 추정\n",
    "try:\n",
    "    reward_per_token = rewards_vault_contract.functions.rewardPerToken().call()  # 보상 비율 가져오기\n",
    "    total_supply = rewards_vault_contract.functions.totalSupply().call()  # 총 스테이킹된 양 가져오기\n",
    "    \n",
    "    # APY 계산 (간단한 예시)\n",
    "    if total_supply > 0:\n",
    "        apy = (reward_per_token / total_supply) * 365 * 100\n",
    "        print(f\"예상 APY: {apy:.2f}%\")\n",
    "    else:\n",
    "        print(\"총 스테이킹된 양이 0입니다. APY를 계산할 수 없습니다.\")\n",
    "except Exception as e:\n",
    "    print(f\"APY 계산 오류 발생: {e}\")\n",
    "\n",
    "# 검증자 수수료(Commission) 확인\n",
    "try:\n",
    "    commission = bgt_contract.functions.commissions(account_address).call()  # account_address를 인자로 전달\n",
    "    print(f\"검증자 수수료(Commission): {commission}%\")\n",
    "except Exception as e:\n",
    "    print(f\"Commission 조회 오류 발생: {e}\")"
   ]
  },
  {
   "cell_type": "code",
   "execution_count": 14,
   "id": "9f7c6acc-9bc8-4c10-b51c-69c650eaaf48",
   "metadata": {},
   "outputs": [
    {
     "name": "stdout",
     "output_type": "stream",
     "text": [
      "Total Delegate Staked: 0\n",
      "BGT per Proposal 조회 오류 발생: \n",
      "Could not identify the intended function with name `notifyRewardAmount`, positional arguments with type(s) `(address)` and keyword arguments with type(s) `{}`.\n",
      "Found 1 function(s) with the name `notifyRewardAmount`: ['notifyRewardAmount(address,uint256)']\n",
      "Function invocation failed due to improper number of arguments.\n",
      "Incentives: 621887062736789397903222\n"
     ]
    }
   ],
   "source": [
    "# 스마트 계약 주소 설정 (예시 주소)\n",
    "rewards_vault_address = \"0xAD57d7d39a487C04a44D3522b910421888Fb9C6d\"\n",
    "validator_address = \"0x2D764DFeaAc00390c69985631aAA7Cc3fcfaFAfF\"\n",
    "account_address = \"0xd28d852cbcc68DCEC922f6d5C7a8185dBaa104B7\"\n",
    "\n",
    "# ABI 파일 로드\n",
    "with open('BerachainRewardsVault.json') as f:\n",
    "    rewards_vault_abi = json.load(f)\n",
    "\n",
    "# 스마트 계약 인스턴스 생성\n",
    "rewards_vault_contract = w3.eth.contract(address=rewards_vault_address, abi=rewards_vault_abi)\n",
    "\n",
    "# Total Incentive Value 가져오기\n",
    "try:\n",
    "    total_delegate_staked = rewards_vault_contract.functions.getTotalDelegateStaked(account_address).call()\n",
    "    print(f\"Total Delegate Staked: {total_delegate_staked}\")\n",
    "except Exception as e:\n",
    "    print(f\"Total Incentive Value 조회 오류 발생: {e}\")\n",
    "\n",
    "# BGT per Proposal 가져오기\n",
    "try:\n",
    "    bgt_per_proposal = rewards_vault_contract.functions.notifyRewardAmount(validator_address).call()\n",
    "    print(f\"BGT per Proposal: {bgt_per_proposal}\")\n",
    "except Exception as e:\n",
    "    print(f\"BGT per Proposal 조회 오류 발생: {e}\")\n",
    "\n",
    "# Incentives 가져오기\n",
    "try:\n",
    "    incentives = rewards_vault_contract.functions.getRewardForDuration().call()\n",
    "    print(f\"Incentives: {incentives}\")\n",
    "except Exception as e:\n",
    "    print(f\"Incentives 조회 오류 발생: {e}\")"
   ]
  },
  {
   "cell_type": "code",
   "execution_count": 86,
   "id": "133b060c-ce39-4dff-b402-3b66cafef2b9",
   "metadata": {},
   "outputs": [
    {
     "name": "stdout",
     "output_type": "stream",
     "text": [
      "Operator Address: 0xe41779952f5485db5440452DFa43350556AA4673\n",
      "수수료 조회 오류 발생: ('execution reverted', 'no data')\n",
      "총 인센티브 값: 0x2C1F148Ee973a4cdA4aBEce2241DF3D3337b7319\n"
     ]
    }
   ],
   "source": [
    "# 스마트 계약 주소 설정 (예시 주소)\n",
    "bera_chef_address = \"0xfb81E39E3970076ab2693fA5C45A07Cc724C93c2\"\n",
    "validator_coinbase = \"0x2D764DFeaAc00390c69985631aAA7Cc3fcfaFAfF\"\n",
    "\n",
    "# ABI 파일 로드\n",
    "with open('BeraChef.json') as f:\n",
    "    bera_chef_abi = json.load(f)\n",
    "\n",
    "with open('BGT.json') as f:\n",
    "    bgt_abi = json.load(f)\n",
    "\n",
    "with open('BerachainRewardsVault.json') as f:\n",
    "    rewards_vault_abi = json.load(f)\n",
    "\n",
    "# 스마트 계약 인스턴스 생성\n",
    "bera_chef_contract = w3.eth.contract(address=bera_chef_address, abi=bera_chef_abi)\n",
    "bgt_contract = w3.eth.contract(address=bera_chef_address, abi=bgt_abi)\n",
    "rewards_vault_contract = w3.eth.contract(address=bera_chef_address, abi=rewards_vault_abi)\n",
    "\n",
    "try:\n",
    "    operator_address = bera_chef_contract.functions.getOperator(validator_coinbase).call()\n",
    "    print(f\"Operator Address: {operator_address}\")\n",
    "except Exception as e:\n",
    "    print(f\"getOperator 함수 호출 오류 발생: {e}\")\n",
    "\n",
    "# 연산자 주소로 추가 정보 확인\n",
    "if operator_address != \"0x0000000000000000000000000000000000000000\":\n",
    "    try:\n",
    "        commission = bgt_contract.functions.commissions(operator_address).call()\n",
    "        print(f\"연산자의 수수료: {commission}%\")\n",
    "    except Exception as e:\n",
    "        print(f\"수수료 조회 오류 발생: {e}\")\n",
    "\n",
    "    try:\n",
    "        total_incentive_value = rewards_vault_contract.functions.distributor().call()\n",
    "        print(f\"총 인센티브 값: {total_incentive_value}\")\n",
    "    except Exception as e:\n",
    "        print(f\"총 인센티브 값 조회 오류 발생: {e}\")\n",
    "else:\n",
    "    print(\"연산자 주소가 유효하지 않습니다.\")\n"
   ]
  },
  {
   "cell_type": "code",
   "execution_count": null,
   "id": "1c5058b7-b205-433d-947c-9682381d4bc8",
   "metadata": {},
   "outputs": [],
   "source": []
  }
 ],
 "metadata": {
  "kernelspec": {
   "display_name": "Python 3 (ipykernel)",
   "language": "python",
   "name": "python3"
  },
  "language_info": {
   "codemirror_mode": {
    "name": "ipython",
    "version": 3
   },
   "file_extension": ".py",
   "mimetype": "text/x-python",
   "name": "python",
   "nbconvert_exporter": "python",
   "pygments_lexer": "ipython3",
   "version": "3.11.4"
  }
 },
 "nbformat": 4,
 "nbformat_minor": 5
}
